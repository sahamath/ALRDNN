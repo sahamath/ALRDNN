{
 "cells": [
  {
   "cell_type": "markdown",
   "metadata": {},
   "source": [
    "Code from [this link](https://github.com/keras-team/keras/blob/master/examples/mnist_cnn.py)"
   ]
  },
  {
   "cell_type": "code",
   "execution_count": 86,
   "metadata": {},
   "outputs": [],
   "source": [
    "import keras\n",
    "from keras.datasets import mnist\n",
    "from keras.models import Sequential\n",
    "from keras.layers import Dense, Flatten, Conv2D, AveragePooling2D, BatchNormalization, MaxPool2D\n",
    "from keras.callbacks import LearningRateScheduler\n",
    "from keras.preprocessing.image import ImageDataGenerator\n",
    "from keras import backend as K\n",
    "\n",
    "import numpy as np\n",
    "import matplotlib.pyplot as plt\n",
    "\n",
    "plt.style.use('ggplot')"
   ]
  },
  {
   "cell_type": "code",
   "execution_count": 26,
   "metadata": {},
   "outputs": [],
   "source": [
    "batch_size = 256\n",
    "num_classes = 10\n",
    "epochs = 20"
   ]
  },
  {
   "cell_type": "code",
   "execution_count": 3,
   "metadata": {},
   "outputs": [],
   "source": [
    "img_rows, img_cols = 28, 28"
   ]
  },
  {
   "cell_type": "code",
   "execution_count": 4,
   "metadata": {},
   "outputs": [
    {
     "name": "stdout",
     "output_type": "stream",
     "text": [
      "Downloading data from https://s3.amazonaws.com/img-datasets/mnist.npz\n",
      "11493376/11490434 [==============================] - 1s 0us/step\n"
     ]
    }
   ],
   "source": [
    "(x_train, y_train), (x_test, y_test) = mnist.load_data()"
   ]
  },
  {
   "cell_type": "code",
   "execution_count": 5,
   "metadata": {},
   "outputs": [],
   "source": [
    "if K.image_data_format() == 'channels_first':\n",
    "    x_train = x_train.reshape(x_train.shape[0], 1, img_rows, img_cols)\n",
    "    x_test = x_test.reshape(x_test.shape[0], 1, img_rows, img_cols)\n",
    "    input_shape = (1, img_rows, img_cols)\n",
    "else:\n",
    "    x_train = x_train.reshape(x_train.shape[0], img_rows, img_cols, 1)\n",
    "    x_test = x_test.reshape(x_test.shape[0], img_rows, img_cols, 1)\n",
    "    input_shape = (img_rows, img_cols, 1)"
   ]
  },
  {
   "cell_type": "code",
   "execution_count": 6,
   "metadata": {},
   "outputs": [
    {
     "name": "stdout",
     "output_type": "stream",
     "text": [
      "x_train shape: (60000, 28, 28, 1)\n",
      "60000 train samples\n",
      "10000 test samples\n"
     ]
    }
   ],
   "source": [
    "x_train = x_train.astype('float32')\n",
    "x_test = x_test.astype('float32')\n",
    "x_train /= 255\n",
    "x_test /= 255\n",
    "print('x_train shape:', x_train.shape)\n",
    "print(x_train.shape[0], 'train samples')\n",
    "print(x_test.shape[0], 'test samples')"
   ]
  },
  {
   "cell_type": "code",
   "execution_count": 7,
   "metadata": {},
   "outputs": [],
   "source": [
    "y_train = keras.utils.to_categorical(y_train, num_classes)\n",
    "y_test = keras.utils.to_categorical(y_test, num_classes)"
   ]
  },
  {
   "cell_type": "code",
   "execution_count": 71,
   "metadata": {},
   "outputs": [],
   "source": [
    "model = Sequential()\n",
    "model.add(Conv2D(32, kernel_size=(3, 3),activation='relu',kernel_initializer='he_normal',input_shape=input_shape))\n",
    "model.add(Conv2D(32, kernel_size=(3, 3),activation='relu',kernel_initializer='he_normal'))\n",
    "model.add(MaxPool2D((2, 2)))\n",
    "model.add(Dropout(0.20))\n",
    "model.add(Conv2D(64, (3, 3), activation='relu',padding='same',kernel_initializer='he_normal'))\n",
    "model.add(Conv2D(64, (3, 3), activation='relu',padding='same',kernel_initializer='he_normal'))\n",
    "model.add(MaxPool2D(pool_size=(2, 2)))\n",
    "model.add(Dropout(0.25))\n",
    "model.add(Conv2D(128, (3, 3), activation='relu',padding='same',kernel_initializer='he_normal'))\n",
    "model.add(Dropout(0.25))\n",
    "model.add(Flatten())\n",
    "model.add(Dense(128, activation='relu'))\n",
    "model.add(BatchNormalization())\n",
    "model.add(Dropout(0.25))\n",
    "model.add(Dense(num_classes, activation='softmax'))"
   ]
  },
  {
   "cell_type": "code",
   "execution_count": 76,
   "metadata": {},
   "outputs": [],
   "source": [
    "func = K.function([model.layers[0].input], [model.layers[-2].output])"
   ]
  },
  {
   "cell_type": "code",
   "execution_count": 77,
   "metadata": {},
   "outputs": [],
   "source": [
    "lrs = []"
   ]
  },
  {
   "cell_type": "code",
   "execution_count": 78,
   "metadata": {},
   "outputs": [],
   "source": [
    "def lr_schedule(epoch):\n",
    "    \"\"\"Learning Rate Schedule\n",
    "    # Arguments\n",
    "        epoch (int): The number of epochs\n",
    "    # Returns\n",
    "        lr (float32): learning rate\n",
    "    \"\"\"\n",
    "\n",
    "    Kz = 0.\n",
    "    for i in range((len(x_train) - 1) // batch_size + 1):\n",
    "        start_i = i * batch_size\n",
    "        end_i = start_i + batch_size\n",
    "        xb = x_train[start_i:end_i]\n",
    "    \n",
    "        activ = np.linalg.norm(func([xb]))\n",
    "        if activ > Kz:\n",
    "            Kz = activ\n",
    "\n",
    "    K_ = (9. * Kz) / (10. * batch_size)\n",
    "    lr = 1 / K_\n",
    "    lrs.append(lr)\n",
    "    print('Epoch', epoch, 'LR =', lr)\n",
    "    return lr"
   ]
  },
  {
   "cell_type": "code",
   "execution_count": 79,
   "metadata": {},
   "outputs": [],
   "source": [
    "lr_scheduler = LearningRateScheduler(lr_schedule)"
   ]
  },
  {
   "cell_type": "code",
   "execution_count": 80,
   "metadata": {},
   "outputs": [],
   "source": [
    "model.compile(loss=keras.losses.categorical_crossentropy,\n",
    "              optimizer=keras.optimizers.SGD(lr=1e-3),\n",
    "              metrics=['accuracy'])"
   ]
  },
  {
   "cell_type": "code",
   "execution_count": 81,
   "metadata": {},
   "outputs": [],
   "source": [
    "datagen = ImageDataGenerator(\n",
    "        featurewise_center=False,  # set input mean to 0 over the dataset\n",
    "        samplewise_center=False,  # set each sample mean to 0\n",
    "        featurewise_std_normalization=False,  # divide inputs by std of the dataset\n",
    "        samplewise_std_normalization=False,  # divide each input by its std\n",
    "        zca_whitening=False,  # apply ZCA whitening\n",
    "        rotation_range=15, # randomly rotate images in the range (degrees, 0 to 180)\n",
    "        zoom_range = 0.1, # Randomly zoom image \n",
    "        width_shift_range=0.1,  # randomly shift images horizontally (fraction of total width)\n",
    "        height_shift_range=0.1,  # randomly shift images vertically (fraction of total height)\n",
    "        horizontal_flip=False,  # randomly flip images\n",
    "        vertical_flip=False)  # randomly flip images\n",
    "\n",
    "        # Compute quantities required for featurewise normalization\n",
    "        # (std, mean, and principal components if ZCA whitening is applied).\n",
    "datagen.fit(x_train)"
   ]
  },
  {
   "cell_type": "code",
   "execution_count": 82,
   "metadata": {},
   "outputs": [
    {
     "name": "stdout",
     "output_type": "stream",
     "text": [
      "Epoch 1/20\n",
      "Epoch 0 LR = 2.624125012913604\n",
      "235/234 [==============================] - 20s 84ms/step - loss: 1.0442 - acc: 0.6555 - val_loss: 2.7086 - val_acc: 0.2391\n",
      "Epoch 2/20\n",
      "Epoch 1 LR = 2.220594486667227\n",
      "235/234 [==============================] - 18s 76ms/step - loss: 0.2984 - acc: 0.9081 - val_loss: 0.3068 - val_acc: 0.8995\n",
      "Epoch 3/20\n",
      "Epoch 2 LR = 2.952203755569404\n",
      "235/234 [==============================] - 18s 77ms/step - loss: 0.1881 - acc: 0.9422 - val_loss: 0.1045 - val_acc: 0.9673\n",
      "Epoch 4/20\n",
      "Epoch 3 LR = 2.5047592163804095\n",
      "235/234 [==============================] - 18s 76ms/step - loss: 0.1182 - acc: 0.9641 - val_loss: 0.0781 - val_acc: 0.9777\n",
      "Epoch 5/20\n",
      "Epoch 4 LR = 2.3865759088157374\n",
      "235/234 [==============================] - 17s 74ms/step - loss: 0.0956 - acc: 0.9709 - val_loss: 0.0350 - val_acc: 0.9895\n",
      "Epoch 6/20\n",
      "Epoch 5 LR = 2.1039852179917324\n",
      "235/234 [==============================] - 18s 77ms/step - loss: 0.0811 - acc: 0.9756 - val_loss: 0.0244 - val_acc: 0.9925\n",
      "Epoch 7/20\n",
      "Epoch 6 LR = 2.412712925070517\n",
      "235/234 [==============================] - 18s 77ms/step - loss: 0.0796 - acc: 0.9757 - val_loss: 0.0335 - val_acc: 0.9904\n",
      "Epoch 8/20\n",
      "Epoch 7 LR = 2.0370396475030654\n",
      "235/234 [==============================] - 18s 76ms/step - loss: 0.0683 - acc: 0.9791 - val_loss: 0.0257 - val_acc: 0.9926\n",
      "Epoch 9/20\n",
      "Epoch 8 LR = 2.450439201649971\n",
      "235/234 [==============================] - 18s 76ms/step - loss: 0.0674 - acc: 0.9789 - val_loss: 0.0416 - val_acc: 0.9883\n",
      "Epoch 10/20\n",
      "Epoch 9 LR = 2.246134538178822\n",
      "235/234 [==============================] - 18s 77ms/step - loss: 0.0619 - acc: 0.9819 - val_loss: 0.0218 - val_acc: 0.9940\n",
      "Epoch 11/20\n",
      "Epoch 10 LR = 2.1860489654852238\n",
      "235/234 [==============================] - 18s 77ms/step - loss: 0.0580 - acc: 0.9823 - val_loss: 0.0253 - val_acc: 0.9926\n",
      "Epoch 12/20\n",
      "Epoch 11 LR = 2.3457747418024146\n",
      "235/234 [==============================] - 18s 75ms/step - loss: 0.0560 - acc: 0.9834 - val_loss: 0.0244 - val_acc: 0.9923\n",
      "Epoch 13/20\n",
      "Epoch 12 LR = 2.3524260741360683\n",
      "235/234 [==============================] - 18s 77ms/step - loss: 0.0547 - acc: 0.9829 - val_loss: 0.0273 - val_acc: 0.9921\n",
      "Epoch 14/20\n",
      "Epoch 13 LR = 2.185557642731673\n",
      "235/234 [==============================] - 18s 75ms/step - loss: 0.0499 - acc: 0.9851 - val_loss: 0.0179 - val_acc: 0.9946\n",
      "Epoch 15/20\n",
      "Epoch 14 LR = 1.9331086199829655\n",
      "235/234 [==============================] - 17s 74ms/step - loss: 0.0469 - acc: 0.9861 - val_loss: 0.0406 - val_acc: 0.9855\n",
      "Epoch 16/20\n",
      "Epoch 15 LR = 2.2392026795344755\n",
      "235/234 [==============================] - 18s 76ms/step - loss: 0.0641 - acc: 0.9811 - val_loss: 0.0575 - val_acc: 0.9806\n",
      "Epoch 17/20\n",
      "Epoch 16 LR = 2.291687164483773\n",
      "235/234 [==============================] - 18s 77ms/step - loss: 0.0540 - acc: 0.9833 - val_loss: 0.0210 - val_acc: 0.9937\n",
      "Epoch 18/20\n",
      "Epoch 17 LR = 2.3967361379770815\n",
      "235/234 [==============================] - 18s 76ms/step - loss: 0.0508 - acc: 0.9848 - val_loss: 0.0233 - val_acc: 0.9932\n",
      "Epoch 19/20\n",
      "Epoch 18 LR = 2.400916392100361\n",
      "235/234 [==============================] - 18s 77ms/step - loss: 0.0468 - acc: 0.9857 - val_loss: 0.0168 - val_acc: 0.9950\n",
      "Epoch 20/20\n",
      "Epoch 19 LR = 2.3377143001139378\n",
      "235/234 [==============================] - 18s 77ms/step - loss: 0.0433 - acc: 0.9868 - val_loss: 0.0216 - val_acc: 0.9934\n"
     ]
    },
    {
     "data": {
      "text/plain": [
       "<keras.callbacks.History at 0x7f67a7f14e10>"
      ]
     },
     "execution_count": 82,
     "metadata": {},
     "output_type": "execute_result"
    }
   ],
   "source": [
    "model.fit_generator(datagen.flow(x_train, y_train, batch_size=batch_size),\n",
    "                    steps_per_epoch=len(x_train) / batch_size,\n",
    "                    epochs=20,\n",
    "                    verbose=1,\n",
    "                    validation_data=(x_test, y_test),\n",
    "                    callbacks=[lr_scheduler])"
   ]
  },
  {
   "cell_type": "code",
   "execution_count": 97,
   "metadata": {},
   "outputs": [
    {
     "data": {
      "image/png": "[encoded data removed]",
      "text/plain": [
       "<Figure size 720x288 with 2 Axes>"
      ]
     },
     "metadata": {},
     "output_type": "display_data"
    }
   ],
   "source": [
    "fig, ax = plt.subplots(ncols=2, figsize=(10, 4))\n",
    "plt.xticks(range(1, 21, 2))\n",
    "\n",
    "ax[0].set_ylabel('Accuracy');\n",
    "ax[0].set_xlabel('Epochs');\n",
    "lines = ax[0].plot(range(1, 21), model.history.history['acc'], 'r-',\n",
    "                   range(1, 21), model.history.history['val_acc'], 'g-');\n",
    "ax[0].legend(lines, ('Training', 'Validation'));\n",
    "\n",
    "ax[1].set_ylabel('Loss')\n",
    "ax[1].set_xlabel('Epochs')\n",
    "lines = ax[1].plot(range(1, 21), model.history.history['loss'], 'r-',\n",
    "                   range(1, 21), model.history.history['val_loss'], 'g-');\n",
    "ax[1].legend(lines, ('Training', 'Validation'))\n",
    "\n",
    "fig.tight_layout()"
   ]
  },
  {
   "cell_type": "code",
   "execution_count": 88,
   "metadata": {},
   "outputs": [],
   "source": [
    "model.save('mnist-epoch-20.h5')"
   ]
  },
  {
   "cell_type": "code",
   "execution_count": 99,
   "metadata": {},
   "outputs": [
    {
     "data": {
      "image/png": "[encoded data removed]",
      "text/plain": [
       "<Figure size 432x288 with 1 Axes>"
      ]
     },
     "metadata": {},
     "output_type": "display_data"
    }
   ],
   "source": [
    "plt.xticks(range(1, 21, 2))\n",
    "plt.plot(range(1, 21), lrs);"
   ]
  },
  {
   "cell_type": "code",
   "execution_count": null,
   "metadata": {},
   "outputs": [],
   "source": []
  }
 ],
 "metadata": {
  "kernelspec": {
   "display_name": "Python 3",
   "language": "python",
   "name": "python3"
  },
  "language_info": {
   "codemirror_mode": {
    "name": "ipython",
    "version": 3
   },
   "file_extension": ".py",
   "mimetype": "text/x-python",
   "name": "python",
   "nbconvert_exporter": "python",
   "pygments_lexer": "ipython3",
   "version": "3.5.3"
  }
 },
 "nbformat": 4,
 "nbformat_minor": 2
}
