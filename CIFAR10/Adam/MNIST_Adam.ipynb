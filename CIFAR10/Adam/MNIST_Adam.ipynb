{
 "cells": [
  {
   "cell_type": "code",
   "execution_count": 1,
   "metadata": {},
   "outputs": [
    {
     "name": "stderr",
     "output_type": "stream",
     "text": [
      "Using TensorFlow backend.\n"
     ]
    }
   ],
   "source": [
    "import keras\n",
    "from keras.datasets import mnist\n",
    "from keras.models import Sequential\n",
    "from keras.layers import Dense, Flatten, Conv2D, AveragePooling2D, BatchNormalization, MaxPool2D, Dropout\n",
    "from keras.callbacks import LearningRateScheduler\n",
    "from keras.preprocessing.image import ImageDataGenerator\n",
    "from keras import backend as K\n",
    "\n",
    "import numpy as np\n",
    "import matplotlib.pyplot as plt\n",
    "\n",
    "plt.style.use('ggplot')"
   ]
  },
  {
   "cell_type": "code",
   "execution_count": 2,
   "metadata": {},
   "outputs": [],
   "source": [
    "batch_size = 256\n",
    "num_classes = 10\n",
    "epochs = 20"
   ]
  },
  {
   "cell_type": "code",
   "execution_count": 3,
   "metadata": {},
   "outputs": [],
   "source": [
    "img_rows, img_cols = 28, 28"
   ]
  },
  {
   "cell_type": "code",
   "execution_count": 4,
   "metadata": {},
   "outputs": [],
   "source": [
    "(x_train, y_train), (x_test, y_test) = mnist.load_data()"
   ]
  },
  {
   "cell_type": "code",
   "execution_count": 5,
   "metadata": {},
   "outputs": [],
   "source": [
    "if K.image_data_format() == 'channels_first':\n",
    "    x_train = x_train.reshape(x_train.shape[0], 1, img_rows, img_cols)\n",
    "    x_test = x_test.reshape(x_test.shape[0], 1, img_rows, img_cols)\n",
    "    input_shape = (1, img_rows, img_cols)\n",
    "else:\n",
    "    x_train = x_train.reshape(x_train.shape[0], img_rows, img_cols, 1)\n",
    "    x_test = x_test.reshape(x_test.shape[0], img_rows, img_cols, 1)\n",
    "    input_shape = (img_rows, img_cols, 1)"
   ]
  },
  {
   "cell_type": "code",
   "execution_count": 6,
   "metadata": {},
   "outputs": [
    {
     "name": "stdout",
     "output_type": "stream",
     "text": [
      "x_train shape: (60000, 28, 28, 1)\n",
      "60000 train samples\n",
      "10000 test samples\n"
     ]
    }
   ],
   "source": [
    "x_train = x_train.astype('float32')\n",
    "x_test = x_test.astype('float32')\n",
    "x_train /= 255\n",
    "x_test /= 255\n",
    "print('x_train shape:', x_train.shape)\n",
    "print(x_train.shape[0], 'train samples')\n",
    "print(x_test.shape[0], 'test samples')"
   ]
  },
  {
   "cell_type": "code",
   "execution_count": 7,
   "metadata": {},
   "outputs": [],
   "source": [
    "y_train = keras.utils.to_categorical(y_train, num_classes)\n",
    "y_test = keras.utils.to_categorical(y_test, num_classes)"
   ]
  },
  {
   "cell_type": "code",
   "execution_count": 8,
   "metadata": {},
   "outputs": [],
   "source": [
    "model = Sequential()\n",
    "model.add(Conv2D(32, kernel_size=(3, 3),activation='relu',kernel_initializer='he_normal',input_shape=input_shape))\n",
    "model.add(Conv2D(32, kernel_size=(3, 3),activation='relu',kernel_initializer='he_normal'))\n",
    "model.add(MaxPool2D((2, 2)))\n",
    "model.add(Dropout(0.20))\n",
    "model.add(Conv2D(64, (3, 3), activation='relu',padding='same',kernel_initializer='he_normal'))\n",
    "model.add(Conv2D(64, (3, 3), activation='relu',padding='same',kernel_initializer='he_normal'))\n",
    "model.add(MaxPool2D(pool_size=(2, 2)))\n",
    "model.add(Dropout(0.25))\n",
    "model.add(Conv2D(128, (3, 3), activation='relu',padding='same',kernel_initializer='he_normal'))\n",
    "model.add(Dropout(0.25))\n",
    "model.add(Flatten())\n",
    "model.add(Dense(128, activation='relu'))\n",
    "model.add(BatchNormalization())\n",
    "model.add(Dropout(0.25))\n",
    "model.add(Dense(num_classes, activation='softmax'))"
   ]
  },
  {
   "cell_type": "code",
   "execution_count": 9,
   "metadata": {},
   "outputs": [],
   "source": [
    "func = K.function([model.layers[0].input], [model.layers[-2].output])"
   ]
  },
  {
   "cell_type": "code",
   "execution_count": 10,
   "metadata": {},
   "outputs": [],
   "source": [
    "lrs = []"
   ]
  },
  {
   "cell_type": "code",
   "execution_count": 11,
   "metadata": {},
   "outputs": [],
   "source": [
    "K1 = 0.\n",
    "K2 = 0.\n",
    "beta1 = 0.9\n",
    "beta2 = 0.999"
   ]
  },
  {
   "cell_type": "code",
   "execution_count": 22,
   "metadata": {},
   "outputs": [],
   "source": [
    "def lr_schedule(epoch):\n",
    "    \"\"\"Learning Rate Schedule\n",
    "    # Arguments\n",
    "        epoch (int): The number of epochs\n",
    "    # Returns\n",
    "        lr (float32): learning rate\n",
    "    \"\"\"\n",
    "    global K1, K2\n",
    "\n",
    "    Kz = 0.  # max penultimate activation\n",
    "    S = 0.\n",
    "    \n",
    "    sess = K.get_session()\n",
    "    max_wt = 0.\n",
    "    for weight in model.weights:\n",
    "        norm = np.linalg.norm(weight.eval(sess))\n",
    "        if norm > max_wt:\n",
    "            max_wt = norm\n",
    "    \n",
    "    for i in range((len(x_train) - 1) // batch_size + 1):\n",
    "        start_i = i * batch_size\n",
    "        end_i = start_i + batch_size\n",
    "        xb = x_train[start_i:end_i]\n",
    "    \t\n",
    "        tmp = np.array(func([xb]))\n",
    "        activ = np.linalg.norm(tmp)\n",
    "        sq = np.linalg.norm(np.square(tmp))\n",
    "\n",
    "        if sq > S:\n",
    "            S = sq\n",
    "        \n",
    "        if activ > Kz:\n",
    "            Kz = activ\n",
    "\n",
    "    K_ = ((num_classes - 1) * Kz) / (num_classes * batch_size) #+ 1e-4 * max_wt\n",
    "    S_ = (num_classes - 1) ** 2 / (num_classes * batch_size) ** 2 * S #+ 2e-4 * max_wt * ((num_classes - 1) * Kz) / (num_classes * batch_size)\n",
    "    \n",
    "    K1 = beta1 * K1 + (1 - beta1) * K_\n",
    "    K2 = beta2 * K2 + (1 - beta2) * S_\n",
    "\n",
    "    lr = (np.sqrt(K2) + K.epsilon()) / K1\n",
    "    print('S =', S, ', K1 =', K1,', K2 =', K2, ', K_ =', K_, ', lr =', lr)\n",
    "    lrs.append(lr)\n",
    "    print('Epoch', epoch, 'LR =', lr)\n",
    "    return lr"
   ]
  },
  {
   "cell_type": "code",
   "execution_count": 23,
   "metadata": {},
   "outputs": [],
   "source": [
    "lr_scheduler = LearningRateScheduler(lr_schedule)"
   ]
  },
  {
   "cell_type": "code",
   "execution_count": 24,
   "metadata": {},
   "outputs": [],
   "source": [
    "model.compile(loss=keras.losses.categorical_crossentropy,\n",
    "              optimizer=keras.optimizers.Adam(lr=1e-3),\n",
    "              metrics=['accuracy'])"
   ]
  },
  {
   "cell_type": "code",
   "execution_count": 25,
   "metadata": {},
   "outputs": [],
   "source": [
    "datagen = ImageDataGenerator(\n",
    "        featurewise_center=False,  # set input mean to 0 over the dataset\n",
    "        samplewise_center=False,  # set each sample mean to 0\n",
    "        featurewise_std_normalization=False,  # divide inputs by std of the dataset\n",
    "        samplewise_std_normalization=False,  # divide each input by its std\n",
    "        zca_whitening=False,  # apply ZCA whitening\n",
    "        rotation_range=15, # randomly rotate images in the range (degrees, 0 to 180)\n",
    "        zoom_range = 0.1, # Randomly zoom image \n",
    "        width_shift_range=0.1,  # randomly shift images horizontally (fraction of total width)\n",
    "        height_shift_range=0.1,  # randomly shift images vertically (fraction of total height)\n",
    "        horizontal_flip=False,  # randomly flip images\n",
    "        vertical_flip=False)  # randomly flip images\n",
    "\n",
    "        # Compute quantities required for featurewise normalization\n",
    "        # (std, mean, and principal components if ZCA whitening is applied).\n",
    "datagen.fit(x_train)"
   ]
  },
  {
   "cell_type": "code",
   "execution_count": 26,
   "metadata": {},
   "outputs": [
    {
     "name": "stdout",
     "output_type": "stream",
     "text": [
      "Epoch 1/20\n",
      "S = 377.14963 , K1 = 0.05617056906223295 , K2 = 4.661425757221881e-06 , K_ = 0.5617056906223297 , lr = 0.038438875730174175\n",
      "Epoch 0 LR = 0.038438875730174175\n",
      "235/234 [==============================] - 12s 51ms/step - loss: 0.5052 - acc: 0.8355 - val_loss: 0.0803 - val_acc: 0.9759\n",
      "Epoch 2/20\n",
      "S = 635.5947 , K1 = 0.10256808418035504 , K2 = 1.2512473079566855e-05 , K_ = 0.520145720243454 , lr = 0.03448828604149986\n",
      "Epoch 1 LR = 0.03448828604149986\n",
      "235/234 [==============================] - 12s 52ms/step - loss: 0.1291 - acc: 0.9596 - val_loss: 0.0669 - val_acc: 0.9806\n",
      "Epoch 3/20\n",
      "S = 289.10205 , K1 = 0.14222830669283865 , K2 = 1.607315184691717e-05 , K_ = 0.499170309305191 , lr = 0.02818871746676286\n",
      "Epoch 2 LR = 0.02818871746676286\n",
      "235/234 [==============================] - 12s 51ms/step - loss: 0.0992 - acc: 0.9698 - val_loss: 0.0492 - val_acc: 0.9861\n",
      "Epoch 4/20\n",
      "S = 377.49567 , K1 = 0.1854134446638822 , K2 = 2.072278136029493e-05 , K_ = 0.5740796864032746 , lr = 0.024552308941702652\n",
      "Epoch 3 LR = 0.024552308941702652\n",
      "235/234 [==============================] - 11s 47ms/step - loss: 0.0806 - acc: 0.9755 - val_loss: 0.0412 - val_acc: 0.9890\n",
      "Epoch 5/20\n",
      "S = 303.20068 , K1 = 0.2189872443310618 , K2 = 2.4449503551330535e-05 , K_ = 0.5211514413356781 , lr = 0.0225800545631816\n",
      "Epoch 4 LR = 0.0225800545631816\n",
      "235/234 [==============================] - 11s 47ms/step - loss: 0.0704 - acc: 0.9784 - val_loss: 0.0295 - val_acc: 0.9908\n",
      "Epoch 6/20\n",
      "S = 282.1315 , K1 = 0.24601333197643155 , K2 = 2.7912091938369935e-05 , K_ = 0.48924812078475954 , lr = 0.02147562296173576\n",
      "Epoch 5 LR = 0.02147562296173576\n",
      "235/234 [==============================] - 11s 46ms/step - loss: 0.0632 - acc: 0.9807 - val_loss: 0.0412 - val_acc: 0.9872\n",
      "Epoch 7/20\n",
      "S = 363.7163 , K1 = 0.2754429858030956 , K2 = 3.237957489588435e-05 , K_ = 0.5403098702430725 , lr = 0.020659104193007982\n",
      "Epoch 6 LR = 0.020659104193007982\n",
      "235/234 [==============================] - 11s 46ms/step - loss: 0.0605 - acc: 0.9820 - val_loss: 0.0271 - val_acc: 0.9910\n",
      "Epoch 8/20\n",
      "S = 273.51654 , K1 = 0.2958012128861619 , K2 = 3.5727755590567767e-05 , K_ = 0.47902525663375856 , lr = 0.020207388106403865\n",
      "Epoch 7 LR = 0.020207388106403865\n",
      "235/234 [==============================] - 11s 46ms/step - loss: 0.0579 - acc: 0.9820 - val_loss: 0.0269 - val_acc: 0.9907\n",
      "Epoch 9/20\n",
      "S = 291.46774 , K1 = 0.31543340429590994 , K2 = 3.929445812924504e-05 , K_ = 0.4921231269836426 , lr = 0.019873067019897876\n",
      "Epoch 8 LR = 0.019873067019897876\n",
      "235/234 [==============================] - 12s 49ms/step - loss: 0.0570 - acc: 0.9831 - val_loss: 0.0182 - val_acc: 0.9943\n",
      "Epoch 10/20\n",
      "S = 208.94707 , K1 = 0.32580579172009394 , K2 = 4.1837669843009123e-05 , K_ = 0.41915727853775026 , lr = 0.019853252135068902\n",
      "Epoch 9 LR = 0.019853252135068902\n",
      "235/234 [==============================] - 12s 52ms/step - loss: 0.0512 - acc: 0.9846 - val_loss: 0.0257 - val_acc: 0.9914\n",
      "Epoch 11/20\n",
      "S = 204.31096 , K1 = 0.33455411598474527 , K2 = 4.4321037810960104e-05 , K_ = 0.4132890343666077 , lr = 0.01989963481933697\n",
      "Epoch 10 LR = 0.01989963481933697\n",
      "235/234 [==============================] - 10s 44ms/step - loss: 0.0529 - acc: 0.9837 - val_loss: 0.0212 - val_acc: 0.9933\n",
      "Epoch 12/20\n",
      "S = 23858.498 , K1 = 0.36588196997693845 , K2 = 0.00033915866589986985 , K_ = 0.6478326559066773 , lr = 0.05033415806473391\n",
      "Epoch 11 LR = 0.05033415806473391\n",
      "235/234 [==============================] - 11s 46ms/step - loss: 0.1269 - acc: 0.9664 - val_loss: 0.2073 - val_acc: 0.9592\n",
      "Epoch 13/20\n",
      "S = 733188.1 , K1 = 0.634824545188412 , K2 = 0.009400745490662936 , K_ = 3.055307722091675 , lr = 0.1527312426425958\n",
      "Epoch 12 LR = 0.1527312426425958\n",
      "235/234 [==============================] - 11s 45ms/step - loss: 6.1102 - acc: 0.6093 - val_loss: 4.8744 - val_acc: 0.6964\n",
      "Epoch 14/20\n",
      "S = 212212.22 , K1 = 1.662568229738174 , K2 = 0.012014206945909274 , K_ = 10.912261390686036 , lr = 0.06592778323230486\n",
      "Epoch 13 LR = 0.06592778323230486\n",
      "235/234 [==============================] - 11s 47ms/step - loss: 4.3782 - acc: 0.7268 - val_loss: 2.6385 - val_acc: 0.8358\n",
      "Epoch 15/20\n",
      "S = 66898.8 , K1 = 2.093561420115797 , K2 = 0.0128290363893044 , K_ = 5.972500133514404 , lr = 0.054101797603314676\n",
      "Epoch 14 LR = 0.054101797603314676\n",
      "235/234 [==============================] - 11s 48ms/step - loss: 3.4396 - acc: 0.7854 - val_loss: 2.1934 - val_acc: 0.8637\n",
      "Epoch 16/20\n",
      "S = 402970.5 , K1 = 2.461815770810516 , K2 = 0.017796769257822326 , K_ = 5.776104927062988 , lr = 0.05418952707809302\n",
      "Epoch 15 LR = 0.05418952707809302\n",
      "235/234 [==============================] - 12s 50ms/step - loss: 3.2141 - acc: 0.7997 - val_loss: 2.4016 - val_acc: 0.8503\n",
      "Epoch 17/20\n",
      "S = 137938.03 , K1 = 2.868227234195773 , K2 = 0.019483834019822135 , K_ = 6.525930404663086 , lr = 0.04866581115943134\n",
      "Epoch 16 LR = 0.04866581115943134\n",
      "235/234 [==============================] - 12s 50ms/step - loss: 3.1007 - acc: 0.8068 - val_loss: 2.1436 - val_acc: 0.8666\n",
      "Epoch 18/20\n",
      "S = 124429.78 , K1 = 3.2080318367878538 , K2 = 0.021002254891803594 , K_ = 6.266273260116577 , lr = 0.045174628788607216\n",
      "Epoch 17 LR = 0.045174628788607216\n",
      "235/234 [==============================] - 11s 47ms/step - loss: 2.9487 - acc: 0.8163 - val_loss: 2.0679 - val_acc: 0.8716\n",
      "Epoch 19/20\n",
      "S = 112750.84 , K1 = 3.4739801141381212 , K2 = 0.022374810123445908 , K_ = 5.867514610290527 , lr = 0.04305787984193954\n",
      "Epoch 18 LR = 0.04305787984193954\n",
      "235/234 [==============================] - 11s 47ms/step - loss: 2.8424 - acc: 0.8228 - val_loss: 2.0019 - val_acc: 0.8757\n",
      "Epoch 20/20\n",
      "S = 174896.81 , K1 = 3.736568102785344 , K2 = 0.024514093304731765 , K_ = 6.099860000610351 , lr = 0.04190205211207334\n",
      "Epoch 19 LR = 0.04190205211207334\n",
      "235/234 [==============================] - 11s 47ms/step - loss: 2.7269 - acc: 0.8301 - val_loss: 1.9411 - val_acc: 0.8795\n"
     ]
    },
    {
     "data": {
      "text/plain": [
       "<keras.callbacks.History at 0x7f9cc3cb7048>"
      ]
     },
     "execution_count": 26,
     "metadata": {},
     "output_type": "execute_result"
    }
   ],
   "source": [
    "model.fit_generator(datagen.flow(x_train, y_train, batch_size=batch_size),\n",
    "                    steps_per_epoch=len(x_train) / batch_size,\n",
    "                    epochs=20,\n",
    "                    verbose=1,\n",
    "                    validation_data=(x_test, y_test),\n",
    "                    callbacks=[lr_scheduler])"
   ]
  },
  {
   "cell_type": "code",
   "execution_count": 27,
   "metadata": {},
   "outputs": [
    {
     "data": {
      "image/png": "[encoded data removed]",
      "text/plain": [
       "<Figure size 720x288 with 2 Axes>"
      ]
     },
     "metadata": {
      "needs_background": "light"
     },
     "output_type": "display_data"
    }
   ],
   "source": [
    "fig, ax = plt.subplots(ncols=2, figsize=(10, 4))\n",
    "plt.xticks(range(1, 21, 2))\n",
    "\n",
    "ax[0].set_ylabel('Accuracy');\n",
    "ax[0].set_xlabel('Epochs');\n",
    "lines = ax[0].plot(range(1, 21), model.history.history['acc'], 'r-',\n",
    "                   range(1, 21), model.history.history['val_acc'], 'g-');\n",
    "ax[0].legend(lines, ('Training', 'Validation'));\n",
    "\n",
    "ax[1].set_ylabel('Loss')\n",
    "ax[1].set_xlabel('Epochs')\n",
    "lines = ax[1].plot(range(1, 21), model.history.history['loss'], 'r-',\n",
    "                   range(1, 21), model.history.history['val_loss'], 'g-');\n",
    "ax[1].legend(lines, ('Training', 'Validation'))\n",
    "\n",
    "fig.tight_layout()"
   ]
  },
  {
   "cell_type": "code",
   "execution_count": 29,
   "metadata": {},
   "outputs": [
    {
     "data": {
      "image/png": "[encoded data removed]",
      "text/plain": [
       "<Figure size 432x288 with 1 Axes>"
      ]
     },
     "metadata": {
      "needs_background": "light"
     },
     "output_type": "display_data"
    }
   ],
   "source": [
    "plt.xticks(range(1, 21, 2))\n",
    "plt.plot(range(1, 21), lrs);"
   ]
  }
 ],
 "metadata": {
  "kernelspec": {
   "display_name": "Python 3",
   "language": "python",
   "name": "python3"
  },
  "language_info": {
   "codemirror_mode": {
    "name": "ipython",
    "version": 3
   },
   "file_extension": ".py",
   "mimetype": "text/x-python",
   "name": "python",
   "nbconvert_exporter": "python",
   "pygments_lexer": "ipython3",
   "version": "3.5.2"
  }
 },
 "nbformat": 4,
 "nbformat_minor": 2
}
